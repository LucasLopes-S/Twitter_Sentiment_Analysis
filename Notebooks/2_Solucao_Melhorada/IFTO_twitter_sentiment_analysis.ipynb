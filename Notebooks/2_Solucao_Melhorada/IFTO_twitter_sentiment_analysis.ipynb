{
  "nbformat": 4,
  "nbformat_minor": 0,
  "metadata": {
    "colab": {
      "name": "IFTO_twitter_sentiment_analysis.ipynb",
      "provenance": [],
      "collapsed_sections": [
        "yg2aIQsO2YzF",
        "tkGQV9qYjJ1w",
        "1FG_mkBCjV88",
        "A5HEmnJzjo7U",
        "3Ykp8ewIUzlk",
        "HSok2HXDWI9V",
        "IOb9dWLEkCi6",
        "7ONuinVokIDF",
        "Mju3e-VRbAZD",
        "qIF_fAItbKKn",
        "ua8DjpkVdfvX"
      ],
      "authorship_tag": "ABX9TyNeVFek8DKTLPVkUqbapPh/",
      "include_colab_link": true
    },
    "kernelspec": {
      "name": "python3",
      "display_name": "Python 3"
    }
  },
  "cells": [
    {
      "cell_type": "markdown",
      "metadata": {
        "id": "view-in-github",
        "colab_type": "text"
      },
      "source": [
        "<a href=\"https://colab.research.google.com/github/JefteLG/Twitter_Sentiment_Analysis/blob/main/Notebooks/2_Solucao_Melhorada/IFTO_twitter_sentiment_analysis.ipynb\" target=\"_parent\"><img src=\"https://colab.research.google.com/assets/colab-badge.svg\" alt=\"Open In Colab\"/></a>"
      ]
    },
    {
      "cell_type": "markdown",
      "metadata": {
        "id": "Z8P3MLXMdRTQ"
      },
      "source": [
        "<center><h1><strong>Twitter Sentiment Analysis<strong><h1></center>"
      ]
    },
    {
      "cell_type": "markdown",
      "metadata": {
        "id": "duqiar06fBqQ"
      },
      "source": [
        "- O objetivo desse estudo de caso é criar um modelo que analisa um ou mais Tweets para prever o sentimento(Positivo ou Negativo) presente em cada Tweet. É usado o Processamento de linguagem natural(NLP) juntamente com aprendizagem de maquina para construir esse modelo.\r\n",
        "\r\n",
        "- Essa notebook foi criado com o objetivo de melhorar o resultado da solução inicial criada em outro notebook.\r\n",
        "\r\n",
        " - [Repositorio no GitHub](https://github.com/JefteLG/Twitter_Sentiment_Analysis)\r\n",
        "\r\n"
      ]
    },
    {
      "cell_type": "markdown",
      "metadata": {
        "id": "yg2aIQsO2YzF"
      },
      "source": [
        "# Testes"
      ]
    },
    {
      "cell_type": "code",
      "metadata": {
        "id": "Ag4flFQjzhtb"
      },
      "source": [
        "luska = 'quero @user remover o @user agora'"
      ],
      "execution_count": null,
      "outputs": []
    },
    {
      "cell_type": "code",
      "metadata": {
        "id": "-lqDk7duzoWa"
      },
      "source": [
        "newtext = [word for word in luska.split()]\n"
      ],
      "execution_count": null,
      "outputs": []
    },
    {
      "cell_type": "code",
      "metadata": {
        "id": "G_BrfGxaK5T9"
      },
      "source": [
        ""
      ],
      "execution_count": null,
      "outputs": []
    },
    {
      "cell_type": "code",
      "metadata": {
        "id": "sdw4YWIr4GNr",
        "colab": {
          "base_uri": "https://localhost:8080/"
        },
        "outputId": "7b872023-1a35-46d0-d2f6-8c6254a5a34c"
      },
      "source": [
        "#Baixar os dados\n",
        "!wget --no-check-certificate \\\n",
        "    https://raw.githubusercontent.com/JefteLG/Twitter_Sentiment_Analysis/main/Data_Set/twitter.csv \\\n",
        "    -O /tmp/twitter.csv"
      ],
      "execution_count": null,
      "outputs": [
        {
          "output_type": "stream",
          "text": [
            "--2021-01-22 22:37:09--  https://raw.githubusercontent.com/JefteLG/Twitter_Sentiment_Analysis/main/Data_Set/twitter.csv\n",
            "Resolving raw.githubusercontent.com (raw.githubusercontent.com)... 151.101.0.133, 151.101.64.133, 151.101.128.133, ...\n",
            "Connecting to raw.githubusercontent.com (raw.githubusercontent.com)|151.101.0.133|:443... connected.\n",
            "HTTP request sent, awaiting response... 200 OK\n",
            "Length: 3103165 (3.0M) [text/plain]\n",
            "Saving to: ‘/tmp/twitter.csv’\n",
            "\n",
            "/tmp/twitter.csv    100%[===================>]   2.96M  12.7MB/s    in 0.2s    \n",
            "\n",
            "2021-01-22 22:37:09 (12.7 MB/s) - ‘/tmp/twitter.csv’ saved [3103165/3103165]\n",
            "\n"
          ],
          "name": "stdout"
        }
      ]
    },
    {
      "cell_type": "code",
      "metadata": {
        "id": "JRGF4vKf4W6s"
      },
      "source": [
        "tweets_df = pd.read_csv('/tmp/twitter.csv')\n",
        "tweets_df"
      ],
      "execution_count": null,
      "outputs": []
    },
    {
      "cell_type": "code",
      "metadata": {
        "id": "1EL9iOzd42sZ"
      },
      "source": [
        "tweet = tweets_df[tweets_df['id']==4]['tweet'].iloc[0]\n",
        "tweet"
      ],
      "execution_count": null,
      "outputs": []
    },
    {
      "cell_type": "code",
      "metadata": {
        "id": "WVDDI6GJfsSy"
      },
      "source": [
        "!pip install demoji\n",
        "import demoji as em\n",
        "\n",
        "em.download_codes()"
      ],
      "execution_count": null,
      "outputs": []
    },
    {
      "cell_type": "code",
      "metadata": {
        "id": "aWwlotCJg4se"
      },
      "source": [
        "text = 'Olá 😀'\n",
        "\n",
        "em.findall(text)"
      ],
      "execution_count": null,
      "outputs": []
    },
    {
      "cell_type": "code",
      "metadata": {
        "id": "TXNbx7fJj0kY"
      },
      "source": [
        "from pprint import pprint\n",
        "seq = \"I bet you didn't know that 😀, 🙋‍♂️, and 🙋‍♀️ are three different emojis.\"\n",
        "pprint(seq.encode('unicode-escape'))"
      ],
      "execution_count": null,
      "outputs": []
    },
    {
      "cell_type": "markdown",
      "metadata": {
        "id": "0LrqN-0beT29"
      },
      "source": [
        "**TESTE2**"
      ]
    },
    {
      "cell_type": "code",
      "metadata": {
        "colab": {
          "base_uri": "https://localhost:8080/"
        },
        "id": "E3RxzwmoeSDj",
        "outputId": "265d4eec-797e-4b84-9b1e-ca8f4b18a974"
      },
      "source": [
        "import re\r\n",
        "import string\r\n",
        "\r\n",
        "text1=\"O Zyoo não é o 'melhor' do mundo\"\r\n",
        "text2='Eu não gosto de \"jogar\" futebol'\r\n",
        "\r\n",
        "limpar_aspas_simples=\"'\"\r\n",
        "limpar_aspas_duplas='\"'\r\n",
        "\r\n",
        "textfim1 = re.sub(limpar_aspas_simples,' ', text1)\r\n",
        "textfim2 = re.sub(limpar_aspas_duplas,' ', text2)\r\n",
        "\r\n",
        "print(textfim1)\r\n",
        "print(textfim2)\r\n",
        "\r\n"
      ],
      "execution_count": null,
      "outputs": [
        {
          "output_type": "stream",
          "text": [
            "O Zyoo não é o  melhor  do mundo\n",
            "Eu não gosto de  jogar  futebol\n"
          ],
          "name": "stdout"
        }
      ]
    },
    {
      "cell_type": "markdown",
      "metadata": {
        "id": "QSWhiOLv60Az"
      },
      "source": [
        "**TESTE3**"
      ]
    },
    {
      "cell_type": "code",
      "metadata": {
        "colab": {
          "base_uri": "https://localhost:8080/"
        },
        "id": "BOqd4d5R63QG",
        "outputId": "07f8c2e0-ee9e-40bf-bb2e-14650e6df3b5"
      },
      "source": [
        "compare_list = \"FB needs to hurry up and add a laugh/cry button 😬😭😓🤢🙄😱 Since eating my feelings has not fixed the world's problems.\"\r\n",
        "\r\n",
        "from nltk.tokenize import RegexpTokenizer\r\n",
        "match_tokenizer = RegexpTokenizer(\"[\\w']+\")\r\n",
        "# match_tokens = [sent for sent in compare_list]\r\n",
        "match_tokens = []\r\n",
        "\r\n",
        "for sent in compare_list:   \r\n",
        "    match_tokens.append(match_tokenizer.tokenize(sent))\r\n",
        "\r\n",
        "print(match_tokens)"
      ],
      "execution_count": null,
      "outputs": [
        {
          "output_type": "stream",
          "text": [
            "[['F'], ['B'], [], ['n'], ['e'], ['e'], ['d'], ['s'], [], ['t'], ['o'], [], ['h'], ['u'], ['r'], ['r'], ['y'], [], ['u'], ['p'], [], ['a'], ['n'], ['d'], [], ['a'], ['d'], ['d'], [], ['a'], [], ['l'], ['a'], ['u'], ['g'], ['h'], [], ['c'], ['r'], ['y'], [], ['b'], ['u'], ['t'], ['t'], ['o'], ['n'], [], [], [], [], [], [], [], [], ['S'], ['i'], ['n'], ['c'], ['e'], [], ['e'], ['a'], ['t'], ['i'], ['n'], ['g'], [], ['m'], ['y'], [], ['f'], ['e'], ['e'], ['l'], ['i'], ['n'], ['g'], ['s'], [], ['h'], ['a'], ['s'], [], ['n'], ['o'], ['t'], [], ['f'], ['i'], ['x'], ['e'], ['d'], [], ['t'], ['h'], ['e'], [], ['w'], ['o'], ['r'], ['l'], ['d'], [\"'\"], ['s'], [], ['p'], ['r'], ['o'], ['b'], ['l'], ['e'], ['m'], ['s'], []]\n"
          ],
          "name": "stdout"
        }
      ]
    },
    {
      "cell_type": "markdown",
      "metadata": {
        "id": "p2OXSA5xiPzo"
      },
      "source": [
        "# Estrutura do Projeto\n",
        "O projeto prático de Análise de sentimento do Twitter é dividido nas seguintes tarefas:\n",
        "\n",
        "- Tarefa nº 1: Entender a Declaração do Problema e o caso de negócios.\n",
        "- Tarefa nº 2: Importar bibliotecas e conjuntos de dados.\n",
        "- Tarefa nº 3: Executar a análise exploratória de dados.\n",
        "- Tarefa nº 4: Plotar a nuvem de palavras.\n",
        "- Tarefa nº 5: Executar vetorização de contagem (Tokenization).\n",
        "- Tarefa nº 6: Treinar um Classificador Naive Bayes.\n",
        "- Tarefa nº 7: Avaliar o desempenho do modelo treinado.\n",
        "- Tarefa nº 8: Salvar o modelo treinado."
      ]
    },
    {
      "cell_type": "markdown",
      "metadata": {
        "id": "tkGQV9qYjJ1w"
      },
      "source": [
        "## Tarefa nº 1: Entender a Declaração do Problema e o caso de negócios"
      ]
    },
    {
      "cell_type": "markdown",
      "metadata": {
        "id": "xzAaeCtFkbGS"
      },
      "source": [
        "- Nesse notebook é usado o Processamento de linguagem natural(NLP) juntamente com aprendizagem de maquina para construir um modelo que analisa milhares de Tweets para prever o sentimentos das pessoas.\n",
        "\n",
        "- A Inteligencia artificial e a analise de sentimentos baseadas em aprendizado de maquina é crucial para empresas, visto que, os insight revelado pela analise visa indicar o grau de qualidade dos serviços e/ou produtos da empresa de acordo com os clientes.(Trabalhos Futuros)\n",
        "\n",
        "- Esse projeto é diretamente aplicavél a praticamente qualquer empresa que disponhe de meios onlines(Twitter, Instagran, Facebook, WebSite) para interagir com seus clientes.(Trabalhos Futuros)\n",
        "\n",
        "- Os algoritmos podem ser usados para detectar e possivelmente sinalizar autamaticamente tweets de odio e racismo.(Trabalhos Futuros)"
      ]
    },
    {
      "cell_type": "markdown",
      "metadata": {
        "id": "nvDEwqpdjRoj"
      },
      "source": [
        "## Tarefa nº 2: Importar bibliotecas e conjuntos de dados"
      ]
    },
    {
      "cell_type": "code",
      "metadata": {
        "id": "2iWAJGZ-nSc9"
      },
      "source": [
        "#Pacotes essenciais para analise numericas, manipulação de data frames e visualização de dados.\n",
        "import pandas as pd\n",
        "import numpy as np\n",
        "import seaborn as sns\n",
        "import matplotlib.pyplot as plt"
      ],
      "execution_count": null,
      "outputs": []
    },
    {
      "cell_type": "code",
      "metadata": {
        "id": "ULlYu-EV-JHS"
      },
      "source": [
        "# Pacote para a criação de nuuvens de palavras na tarefa nº 4\n",
        "!pip install WordCloud\n",
        "from wordcloud import WordCloud"
      ],
      "execution_count": null,
      "outputs": []
    },
    {
      "cell_type": "code",
      "metadata": {
        "id": "UQm_dk5noTY1"
      },
      "source": [
        "# A base de dados desse exemplo está no meu repositorio do github e pode ser baixada no link abaixo.\n",
        "!wget --no-check-certificate \\\n",
        "    https://raw.githubusercontent.com/JefteLG/Twitter_Sentiment_Analysis/main/Data_Set/data_base_criada/v3.0/total_geral.csv \\\n",
        "    -O /tmp/dataframe_tweets.csv"
      ],
      "execution_count": null,
      "outputs": []
    },
    {
      "cell_type": "code",
      "metadata": {
        "id": "IgzrtLjdsqFT"
      },
      "source": [
        "# Utilizando o pandas para ler o arquivo CSV e estrutura-lo em um data frame na variavel `tweets_df` por meio do metodo read_csv().\n",
        "tweets_df_dataframe = pd.read_csv('/tmp/dataframe_tweets.csv')"
      ],
      "execution_count": null,
      "outputs": []
    },
    {
      "cell_type": "code",
      "metadata": {
        "id": "B74XvdfH86Kp"
      },
      "source": [
        "# visualização2\r\n",
        "tweets_df_dataframe"
      ],
      "execution_count": null,
      "outputs": []
    },
    {
      "cell_type": "code",
      "metadata": {
        "id": "LmnIKKR_tDjr"
      },
      "source": [
        "# visualização1.\n",
        "tweets_df_dataframe.head()"
      ],
      "execution_count": null,
      "outputs": []
    },
    {
      "cell_type": "code",
      "metadata": {
        "id": "8dNaBl0Tu2v6"
      },
      "source": [
        "# Informações sobre a quantidade de Tweets, memoria, tipo de dados e dados faltantes.\n",
        "tweets_df_dataframe.info()"
      ],
      "execution_count": null,
      "outputs": []
    },
    {
      "cell_type": "code",
      "metadata": {
        "id": "U1fkzOu8u3dQ"
      },
      "source": [
        "# Exclusão da coluna `id`, não é um dado relevante para o modelo.\n",
        "# tweets_df = tweets_df.drop(columns=['id'], axis=1)"
      ],
      "execution_count": null,
      "outputs": []
    },
    {
      "cell_type": "markdown",
      "metadata": {
        "id": "1FG_mkBCjV88"
      },
      "source": [
        "## Tarefa nº 3: Executar a análise exploratória de dados."
      ]
    },
    {
      "cell_type": "code",
      "metadata": {
        "id": "aIrEPJ-N_qdc",
        "colab": {
          "base_uri": "https://localhost:8080/",
          "height": 283
        },
        "outputId": "ef52ab53-c3cd-41e0-b963-c2ec8a1b779b"
      },
      "source": [
        "# Esta é uma função no nível dos eixos e desenhará o mapa de calor para os eixos ativos no momento. Nesse caso a função verifica se existe dados faltantes.\n",
        "sns.heatmap(tweets_df_dataframe.isnull(), yticklabels=False, cbar=False, cmap=\"Blues\")"
      ],
      "execution_count": null,
      "outputs": [
        {
          "output_type": "execute_result",
          "data": {
            "text/plain": [
              "<matplotlib.axes._subplots.AxesSubplot at 0x7f459cc58438>"
            ]
          },
          "metadata": {
            "tags": []
          },
          "execution_count": 4
        },
        {
          "output_type": "display_data",
          "data": {
            "image/png": "[encoded data removed]",
            "text/plain": [
              "<Figure size 432x288 with 1 Axes>"
            ]
          },
          "metadata": {
            "tags": [],
            "needs_background": "light"
          }
        }
      ]
    },
    {
      "cell_type": "code",
      "metadata": {
        "id": "4ydidIVtLsok",
        "colab": {
          "base_uri": "https://localhost:8080/",
          "height": 279
        },
        "outputId": "b228a530-c75d-41aa-9ca6-d3d91e6b4e0a"
      },
      "source": [
        "# O método sns.countplot() é usado para mostrar as contagens de observações em cada categoria categórica usando barras(Histograma).\n",
        "sns.countplot(data=tweets_df_dataframe, x='emocao', palette='Set2')\n",
        "plt.show()\n",
        "\n",
        "# sns.countplot(tweets_df_dataframe['emocao'], label='Count', palette='Set2')\n",
        "# plt.show()"
      ],
      "execution_count": null,
      "outputs": [
        {
          "output_type": "display_data",
          "data": {
            "image/png": "[encoded data removed]",
            "text/plain": [
              "<Figure size 432x288 with 1 Axes>"
            ]
          },
          "metadata": {
            "tags": [],
            "needs_background": "light"
          }
        }
      ]
    },
    {
      "cell_type": "code",
      "metadata": {
        "id": "ODWALt2K91Ma"
      },
      "source": [
        "# Nova coluna com o tamanho dos tweets\n",
        "# tweets_df_dataframe['length'] = tweets_df_dataframe['tweet'].apply(len)"
      ],
      "execution_count": null,
      "outputs": []
    },
    {
      "cell_type": "markdown",
      "metadata": {
        "id": "qGCIFqFdFVD-"
      },
      "source": [
        "**Teste**"
      ]
    },
    {
      "cell_type": "code",
      "metadata": {
        "id": "gI6KT9gZFg60"
      },
      "source": [
        "# from nltk.tokenize import TweetTokenizer"
      ],
      "execution_count": null,
      "outputs": []
    },
    {
      "cell_type": "code",
      "metadata": {
        "id": "DWscYirZGwDl"
      },
      "source": [
        "# tweets_df_dataframe[568]"
      ],
      "execution_count": null,
      "outputs": []
    },
    {
      "cell_type": "code",
      "metadata": {
        "id": "wSB_7j5VGPUJ"
      },
      "source": [
        "# tweetTK = TweetTokenizer()"
      ],
      "execution_count": null,
      "outputs": []
    },
    {
      "cell_type": "code",
      "metadata": {
        "id": "gPeDf5MXpY-U"
      },
      "source": [
        "# tweetTK.tokenize(tweets_df_dataframe[tweets_df['id']==31958]['tweet'].iloc[0])"
      ],
      "execution_count": null,
      "outputs": []
    },
    {
      "cell_type": "markdown",
      "metadata": {
        "id": "mKFlUz0sFaxS"
      },
      "source": [
        "**Fim Teste**"
      ]
    },
    {
      "cell_type": "code",
      "metadata": {
        "id": "oI_41ZMN-TaI"
      },
      "source": [
        "# Descobrir o tamanho maximo, minimo e medio dos tweets.\n",
        "# tweets_df_dataframe['length'].plot(bins=100, kind='hist', figsize=(12,8), color='g')\n",
        "\n",
        "# tweets_df_dataframe.describe()"
      ],
      "execution_count": null,
      "outputs": []
    },
    {
      "cell_type": "code",
      "metadata": {
        "id": "o_KTzfnzadgh"
      },
      "source": [
        "# Selecionar a menor frase\n",
        "# tweets_df_dataframe[tweets_df['length']==11]['tweet'].iloc[0]"
      ],
      "execution_count": null,
      "outputs": []
    },
    {
      "cell_type": "code",
      "metadata": {
        "id": "2UqITftfiNIZ"
      },
      "source": [
        "# Separa o DataFrame em dois Dataframes, um com sentimentos positivos e o outro com sentimentos negativos.\n",
        "positive_df = tweets_df_dataframe[tweets_df_dataframe['emocao']==1]\n",
        "negative_df = tweets_df_dataframe[tweets_df_dataframe['emocao']==0]"
      ],
      "execution_count": null,
      "outputs": []
    },
    {
      "cell_type": "code",
      "metadata": {
        "id": "3kppOxtAiu_Q"
      },
      "source": [
        "positive_df"
      ],
      "execution_count": null,
      "outputs": []
    },
    {
      "cell_type": "code",
      "metadata": {
        "id": "keY3soLSiweY"
      },
      "source": [
        "negative_df"
      ],
      "execution_count": null,
      "outputs": []
    },
    {
      "cell_type": "markdown",
      "metadata": {
        "id": "A5HEmnJzjo7U"
      },
      "source": [
        "## Tarefa nº 4: Plotar a nuvem de palavras"
      ]
    },
    {
      "cell_type": "markdown",
      "metadata": {
        "id": "vfJjXLoZQlyq"
      },
      "source": [
        "**Sem a remoção de stop word**"
      ]
    },
    {
      "cell_type": "code",
      "metadata": {
        "id": "pz3DsDvrxwN1"
      },
      "source": [
        "# Criar uma lista de tweets\n",
        "sentences = tweets_df_dataframe['tweet'].tolist()"
      ],
      "execution_count": null,
      "outputs": []
    },
    {
      "cell_type": "code",
      "metadata": {
        "id": "jLDny0ox3CqD"
      },
      "source": [
        "# O método join() pega todos os itens em um iterável e os une em uma string. é usado o espaço como separador\n",
        "sentences_as_one_string = \" \".join(sentences)"
      ],
      "execution_count": null,
      "outputs": []
    },
    {
      "cell_type": "code",
      "metadata": {
        "id": "RIm2zkE68BTi"
      },
      "source": [
        "# Nuvem de palavras de todos os tweets\n",
        "plt.figure(figsize=(10,10))\n",
        "plt.imshow(WordCloud().generate(sentences_as_one_string))"
      ],
      "execution_count": null,
      "outputs": []
    },
    {
      "cell_type": "code",
      "metadata": {
        "id": "qBKJtXYnCiIV"
      },
      "source": [
        "# Nuvem de palavras de todos os tweets NEGATIVOS\n",
        "negative_sentences = negative_df['tweet'].tolist()\n",
        "negative_as_one_string = \" \".join(negative_sentences)\n",
        "\n",
        "plt.figure(figsize=(10,10))\n",
        "plt.imshow(WordCloud().generate(negative_as_one_string))"
      ],
      "execution_count": null,
      "outputs": []
    },
    {
      "cell_type": "code",
      "metadata": {
        "id": "A54mv1tmD32T"
      },
      "source": [
        "# Nuvem de palavras de todos os tweets POSITIVOS\n",
        "positive_sentences = positive_df['tweet'].tolist()\n",
        "positive_as_one_string = \" \".join(positive_sentences)\n",
        "\n",
        "plt.figure(figsize=(10,10))\n",
        "plt.imshow(WordCloud().generate(positive_as_one_string))"
      ],
      "execution_count": null,
      "outputs": []
    },
    {
      "cell_type": "markdown",
      "metadata": {
        "id": "m7I6G75Rj219"
      },
      "source": [
        "## Tarefa nº 5: Executar vetorização de contagem(Tokenization)"
      ]
    },
    {
      "cell_type": "markdown",
      "metadata": {
        "id": "3Ykp8ewIUzlk"
      },
      "source": [
        "### 5.1 Entendendo o a metodologia para tokenizar as palavras das frases"
      ]
    },
    {
      "cell_type": "markdown",
      "metadata": {
        "id": "nYk95p3VPFlm"
      },
      "source": [
        "Aprofundar:\n",
        "\n",
        "[Feature Extraction from Text (USING PYTHON)](https://www.youtube.com/watch?v=7YacOe4XwhY&ab_channel=MachineLearningTV)\n",
        "\n",
        "[Feature Extraction in Scikit Learn](https://www.youtube.com/watch?v=y_X4hXjTFNQ&ab_channel=DataTalks)\n",
        "\n",
        "[NLP - Text Preprocessing and Text Classification (using Python)](https://www.youtube.com/watch?v=nxhCyeRR75Q&ab_channel=MachineLearningTV)"
      ]
    },
    {
      "cell_type": "markdown",
      "metadata": {
        "id": "QgcotjlfsFBi"
      },
      "source": [
        "**Metodologia: Bag of Word**"
      ]
    },
    {
      "cell_type": "code",
      "metadata": {
        "id": "ozUCJAzaY9hW"
      },
      "source": [
        "#Classe responsavel por Converter uma coleção de documentos de texto em uma matriz de contagens de tokens\n",
        "from sklearn.feature_extraction.text import CountVectorizer"
      ],
      "execution_count": null,
      "outputs": []
    },
    {
      "cell_type": "code",
      "metadata": {
        "id": "flJY0smjG7G3"
      },
      "source": [
        "sample_data=[\n",
        "             'Porcaria de produto',\n",
        "             'Obrigado pelo retorno estou muito satisfeito com seu trabalho?',\n",
        "             'Voces ainda vão me responder?',\n",
        "             'O pior serviço de atendimento de todos!!!'\n",
        "             ]\n",
        "\n",
        "sample_data2=[\n",
        "              'Hello World',\n",
        "              'Hello Hello hello World',\n",
        "              'Hello World world world'\n",
        "              ]"
      ],
      "execution_count": null,
      "outputs": []
    },
    {
      "cell_type": "code",
      "metadata": {
        "id": "aDwLv6l_H8tM"
      },
      "source": [
        "# Aprender o vocabulario do texto e retornar um array, [n_samples, n_features]\n",
        "vectorizer = CountVectorizer()\n",
        "X = vectorizer.fit_transform(sample_data)\n",
        "print(vectorizer.get_feature_names())"
      ],
      "execution_count": null,
      "outputs": []
    },
    {
      "cell_type": "code",
      "metadata": {
        "id": "5Qyf_aQuuQo5"
      },
      "source": [
        "# versao tokenizada das strings no dataset\r\n",
        "# (id palavra, id frase)  frequencia da palavra na frase \r\n",
        "c = X\r\n",
        "print(c)"
      ],
      "execution_count": null,
      "outputs": []
    },
    {
      "cell_type": "code",
      "metadata": {
        "id": "scJDbm9MV-N-"
      },
      "source": [
        "print(vectorizer.vocabulary_)"
      ],
      "execution_count": null,
      "outputs": []
    },
    {
      "cell_type": "code",
      "metadata": {
        "id": "zmm7uZfTIGol"
      },
      "source": [
        "#Retorne uma representação densa desta matriz.\n",
        "print(X.toarray())"
      ],
      "execution_count": null,
      "outputs": []
    },
    {
      "cell_type": "markdown",
      "metadata": {
        "id": "HSok2HXDWI9V"
      },
      "source": [
        "### 5.2 Tokenizando as palavras das frases"
      ]
    },
    {
      "cell_type": "code",
      "metadata": {
        "id": "bwUNdRU9WrKT"
      },
      "source": [
        "import pandas as pd\r\n",
        "import string as st\r\n",
        "import nltk\r\n",
        "\r\n",
        "from nltk.corpus import stopwords\r\n",
        "from sklearn.feature_extraction.text import CountVectorizer"
      ],
      "execution_count": null,
      "outputs": []
    },
    {
      "cell_type": "code",
      "metadata": {
        "id": "BKijc8-fW5vi"
      },
      "source": [
        "# dataset\r\n",
        "!wget --no-check-certificate \\\r\n",
        "    https://raw.githubusercontent.com/JefteLG/Twitter_Sentiment_Analysis/main/Data_Set/data_base_criada/v3.0/total_geral.csv \\\r\n",
        "    -O /tmp/dataframe_tweets.csv"
      ],
      "execution_count": null,
      "outputs": []
    },
    {
      "cell_type": "code",
      "metadata": {
        "id": "FM-td_fOW_tW"
      },
      "source": [
        "# ler os dados\r\n",
        "tweets_df_dataframe = pd.read_csv('/tmp/dataframe_tweets.csv')"
      ],
      "execution_count": null,
      "outputs": []
    },
    {
      "cell_type": "code",
      "metadata": {
        "id": "d7bdfSmIXjV9"
      },
      "source": [
        "#Realiza a Tokenização dos tweets utilizando a limpeza de mensagens primeiro\r\n",
        "vectorizer = CountVectorizer(dtype='uint8')\r\n",
        "tweets_countvectorizer = vectorizer.fit_transform(tweets_df_dataframe['tweet'])"
      ],
      "execution_count": null,
      "outputs": []
    },
    {
      "cell_type": "code",
      "metadata": {
        "id": "Lr8dtvj8Xkqc"
      },
      "source": [
        "# conjunto de tweets vetorizados em um array de presença e frequencia de palavras em uma frase\r\n",
        "X = tweets_countvectorizer"
      ],
      "execution_count": null,
      "outputs": []
    },
    {
      "cell_type": "code",
      "metadata": {
        "id": "rhO0-1xwX4ns"
      },
      "source": [
        "# conjunto de rotulos binarios para classificar a emoção(positivo, negetiva) para cada elemento do meu conjunto X\r\n",
        "y = tweets_df_dataframe['emocao']"
      ],
      "execution_count": null,
      "outputs": []
    },
    {
      "cell_type": "markdown",
      "metadata": {
        "id": "IOb9dWLEkCi6"
      },
      "source": [
        "## Tarefa nº 6: Treinar um Classificador Naive Bayes"
      ]
    },
    {
      "cell_type": "code",
      "metadata": {
        "id": "TILiPLqyt6xr",
        "colab": {
          "base_uri": "https://localhost:8080/"
        },
        "outputId": "004aa266-1315-4d12-8763-48676287a771"
      },
      "source": [
        "X.shape"
      ],
      "execution_count": null,
      "outputs": [
        {
          "output_type": "execute_result",
          "data": {
            "text/plain": [
              "(28190, 29215)"
            ]
          },
          "metadata": {
            "tags": []
          },
          "execution_count": 9
        }
      ]
    },
    {
      "cell_type": "code",
      "metadata": {
        "id": "lInlkb-Qz8sz",
        "colab": {
          "base_uri": "https://localhost:8080/"
        },
        "outputId": "3a55d23c-114f-4f0b-ba4c-d5833f03db8a"
      },
      "source": [
        "y.shape"
      ],
      "execution_count": null,
      "outputs": [
        {
          "output_type": "execute_result",
          "data": {
            "text/plain": [
              "(28190,)"
            ]
          },
          "metadata": {
            "tags": []
          },
          "execution_count": 10
        }
      ]
    },
    {
      "cell_type": "code",
      "metadata": {
        "id": "IGB3eRrPjuqJ"
      },
      "source": [
        "# X"
      ],
      "execution_count": null,
      "outputs": []
    },
    {
      "cell_type": "code",
      "metadata": {
        "id": "i1G3m9ze5Hzk"
      },
      "source": [
        "# Separação dos dados de treino e teste\r\n",
        "from sklearn.model_selection import train_test_split\r\n",
        "\r\n",
        "X_train, X_test, y_train, y_test = train_test_split(X, y, test_size = 0.20)"
      ],
      "execution_count": null,
      "outputs": []
    },
    {
      "cell_type": "code",
      "metadata": {
        "id": "FbFNi3XT6tEw"
      },
      "source": [
        "# # print(X_train)\r\n",
        "# ht = X_train.toarray()\r\n",
        "# print(ht[25568][41680])"
      ],
      "execution_count": null,
      "outputs": []
    },
    {
      "cell_type": "code",
      "metadata": {
        "id": "jngxhDl0-2rz"
      },
      "source": [
        "# print(X_train.shape)"
      ],
      "execution_count": null,
      "outputs": []
    },
    {
      "cell_type": "code",
      "metadata": {
        "id": "sm3KI8kEj3Qw"
      },
      "source": [
        "# print(X_test.shape)"
      ],
      "execution_count": null,
      "outputs": []
    },
    {
      "cell_type": "code",
      "metadata": {
        "id": "_Xj41yy2j3F6"
      },
      "source": [
        "# print(y_train.shape)"
      ],
      "execution_count": null,
      "outputs": []
    },
    {
      "cell_type": "code",
      "metadata": {
        "id": "p8pCb9iAj26M"
      },
      "source": [
        "# print(y_test.shape)"
      ],
      "execution_count": null,
      "outputs": []
    },
    {
      "cell_type": "code",
      "metadata": {
        "id": "UYWJ7ARx5v_Y",
        "colab": {
          "base_uri": "https://localhost:8080/"
        },
        "outputId": "92e9aa5d-585c-43e0-d8d9-f9f033180f4b"
      },
      "source": [
        "# Utilização do algoritmo de Naive Bayes para o treinamento\r\n",
        "from sklearn.naive_bayes import MultinomialNB\r\n",
        "\r\n",
        "NB_classifier = MultinomialNB()\r\n",
        "NB_classifier.fit(X_train, y_train)"
      ],
      "execution_count": null,
      "outputs": [
        {
          "output_type": "execute_result",
          "data": {
            "text/plain": [
              "MultinomialNB(alpha=1.0, class_prior=None, fit_prior=True)"
            ]
          },
          "metadata": {
            "tags": []
          },
          "execution_count": 12
        }
      ]
    },
    {
      "cell_type": "markdown",
      "metadata": {
        "id": "7ONuinVokIDF"
      },
      "source": [
        "## Tarefa nº 7: Avaliar o desempenho do modelo treinado"
      ]
    },
    {
      "cell_type": "code",
      "metadata": {
        "id": "Ng8oUUUnnfBo"
      },
      "source": [
        "from sklearn.metrics import classification_report, confusion_matrix\r\n",
        "import seaborn as sns"
      ],
      "execution_count": null,
      "outputs": []
    },
    {
      "cell_type": "code",
      "metadata": {
        "id": "jv8V_OGXnyQd",
        "colab": {
          "base_uri": "https://localhost:8080/"
        },
        "outputId": "fab7e340-307c-4491-8f30-67556f3dbf9b"
      },
      "source": [
        "# visualização da matriz de confusão\r\n",
        "y_predict_test = NB_classifier.predict(X_test)\r\n",
        "cm = confusion_matrix(y_test, y_predict_test)\r\n",
        "cm\r\n",
        "# sns.heatmap(cm, annot=True)"
      ],
      "execution_count": null,
      "outputs": [
        {
          "output_type": "execute_result",
          "data": {
            "text/plain": [
              "array([[2779,   73],\n",
              "       [ 201, 2585]])"
            ]
          },
          "metadata": {
            "tags": []
          },
          "execution_count": 14
        }
      ]
    },
    {
      "cell_type": "code",
      "metadata": {
        "id": "ObWst89KqSXs",
        "colab": {
          "base_uri": "https://localhost:8080/"
        },
        "outputId": "f110ea81-3c8a-4875-a475-d1489a4682f7"
      },
      "source": [
        "# metricas\r\n",
        "print(classification_report(y_test, y_predict_test))"
      ],
      "execution_count": null,
      "outputs": [
        {
          "output_type": "stream",
          "text": [
            "              precision    recall  f1-score   support\n",
            "\n",
            "           0       0.93      0.97      0.95      2852\n",
            "           1       0.97      0.93      0.95      2786\n",
            "\n",
            "    accuracy                           0.95      5638\n",
            "   macro avg       0.95      0.95      0.95      5638\n",
            "weighted avg       0.95      0.95      0.95      5638\n",
            "\n"
          ],
          "name": "stdout"
        }
      ]
    },
    {
      "cell_type": "markdown",
      "metadata": {
        "id": "Gqhxjepa2xDk"
      },
      "source": [
        "**TESTES**"
      ]
    },
    {
      "cell_type": "code",
      "metadata": {
        "id": "xqrByc4N2zyo",
        "colab": {
          "base_uri": "https://localhost:8080/"
        },
        "outputId": "512a2b98-3cd1-457b-ee1b-126e99288155"
      },
      "source": [
        "# QTD de classificações certas\r\n",
        "tweet_correto = (y_test == NB_classifier.predict(X_test)).sum()\r\n",
        "print(f'{tweet_correto} classificações certas')"
      ],
      "execution_count": null,
      "outputs": [
        {
          "output_type": "stream",
          "text": [
            "5364 classificações certas\n"
          ],
          "name": "stdout"
        }
      ]
    },
    {
      "cell_type": "code",
      "metadata": {
        "id": "th5yPxXP4K_v",
        "colab": {
          "base_uri": "https://localhost:8080/"
        },
        "outputId": "4a061f6a-d232-4926-c01a-5f6f88532766"
      },
      "source": [
        "# QTD de classificações incorretas\r\n",
        "tweet_incorreto = (y_test.size - tweet_correto)\r\n",
        "print(f'{tweet_incorreto} classificações incorretas')"
      ],
      "execution_count": null,
      "outputs": [
        {
          "output_type": "stream",
          "text": [
            "274 classificações incorretas\n"
          ],
          "name": "stdout"
        }
      ]
    },
    {
      "cell_type": "code",
      "metadata": {
        "id": "kMqKD6C--5rw",
        "colab": {
          "base_uri": "https://localhost:8080/"
        },
        "outputId": "06f00eff-e358-49a5-aac4-c4ded5af6dda"
      },
      "source": [
        "# Porcentagem de acuraccy\r\n",
        "error = tweet_incorreto/(tweet_correto + tweet_incorreto)\r\n",
        "print(f'acuraccy do modelo {1-error:.2%}')"
      ],
      "execution_count": null,
      "outputs": [
        {
          "output_type": "stream",
          "text": [
            "acuraccy do modelo 95.14%\n"
          ],
          "name": "stdout"
        }
      ]
    },
    {
      "cell_type": "code",
      "metadata": {
        "id": "UP0qrsREAo66",
        "colab": {
          "base_uri": "https://localhost:8080/"
        },
        "outputId": "12ce2c8a-be3c-4a1b-8fe8-995a89559383"
      },
      "source": [
        "# acuraccy\r\n",
        "NB_classifier.score(X_test, y_test)"
      ],
      "execution_count": null,
      "outputs": [
        {
          "output_type": "execute_result",
          "data": {
            "text/plain": [
              "0.9547711954593827"
            ]
          },
          "metadata": {
            "tags": []
          },
          "execution_count": 18
        }
      ]
    },
    {
      "cell_type": "markdown",
      "metadata": {
        "id": "ze2-91lbBrBI"
      },
      "source": [
        "**Exemplos**"
      ]
    },
    {
      "cell_type": "code",
      "metadata": {
        "id": "pf46bYMXBtcc"
      },
      "source": [
        "exemplos = [\r\n",
        "      'O meu dia hoje foi pessimo',\r\n",
        "      'Minha cabeça está doendo muito',\r\n",
        "      'Eu acho que me dei muito mal na minha entrevista de emprego hoje',\r\n",
        "      'acordei feliz mas meu dia acabou muito triste',\r\n",
        "      'eu quero morrer',\r\n",
        "      'vou matar o',\r\n",
        "      'acordei mó triste mas meu dia acabou muito feliz',\r\n",
        "      'estou bastante otimista hoje',\r\n",
        "      'Vou ter um irmãozinhoooooo eba',\r\n",
        "      'Vou ser mamãe, estou muito contente',\r\n",
        "      'Me desejem sorte',\r\n",
        "      'o é meu melhor amigo',\r\n",
        "      'fiquei na bad',\r\n",
        "      'estou hypado',\r\n",
        "      'estou no hype'\r\n",
        "      ]\r\n",
        "\r\n",
        "exemplos2 = [\r\n",
        "            'Gosto de um bom churrasco'\r\n",
        "]"
      ],
      "execution_count": null,
      "outputs": []
    },
    {
      "cell_type": "markdown",
      "metadata": {
        "id": "iwNiHW00-FJO"
      },
      "source": [
        "16 - 100\r\n",
        "14 - X"
      ]
    },
    {
      "cell_type": "code",
      "metadata": {
        "id": "16LQ9s2OC0uA"
      },
      "source": [
        "# Tokenizar os exemplos\r\n",
        "exemplos = vectorizer.transform(exemplos)"
      ],
      "execution_count": null,
      "outputs": []
    },
    {
      "cell_type": "code",
      "metadata": {
        "id": "fMMypOEVieYh"
      },
      "source": [
        "# Tokenizar os exemplos\r\n",
        "exemplos2 = vectorizer.transform(exemplos2)"
      ],
      "execution_count": null,
      "outputs": []
    },
    {
      "cell_type": "code",
      "metadata": {
        "id": "Ky-JJygOLLHZ"
      },
      "source": [
        "print(exemplos.toarray())"
      ],
      "execution_count": null,
      "outputs": []
    },
    {
      "cell_type": "code",
      "metadata": {
        "id": "nxQRYol1FI3X"
      },
      "source": [
        "t = exemplos.toarray()\r\n",
        "print(t[0][10:40])"
      ],
      "execution_count": null,
      "outputs": []
    },
    {
      "cell_type": "code",
      "metadata": {
        "colab": {
          "base_uri": "https://localhost:8080/"
        },
        "id": "LkmrzJtw-3RP",
        "outputId": "6fc519c2-4354-4f74-e325-2101fab0c68e"
      },
      "source": [
        "# classificar o sentimento dos exemplos\r\n",
        "NB_classifier.predict(exemplos)"
      ],
      "execution_count": null,
      "outputs": [
        {
          "output_type": "execute_result",
          "data": {
            "text/plain": [
              "array([0, 0, 0, 0, 0, 0, 0, 1, 1, 1, 1, 1, 0, 0, 1, 1])"
            ]
          },
          "metadata": {
            "tags": []
          },
          "execution_count": 24
        }
      ]
    },
    {
      "cell_type": "code",
      "metadata": {
        "colab": {
          "base_uri": "https://localhost:8080/"
        },
        "id": "x8rX4XpJDDQR",
        "outputId": "fabde94f-0e6e-4519-a004-ba28fc3929d0"
      },
      "source": [
        "# classificar o sentimento dos exemplos\r\n",
        "NB_classifier.predict(exemplos)"
      ],
      "execution_count": null,
      "outputs": [
        {
          "output_type": "execute_result",
          "data": {
            "text/plain": [
              "array([0, 0, 0, 0, 0, 0, 0, 1, 1, 0, 1, 1, 0, 0, 1, 1])"
            ]
          },
          "metadata": {
            "tags": []
          },
          "execution_count": 24
        }
      ]
    },
    {
      "cell_type": "markdown",
      "metadata": {
        "id": "Mju3e-VRbAZD"
      },
      "source": [
        "### **TESTE 1**"
      ]
    },
    {
      "cell_type": "markdown",
      "metadata": {
        "id": "vn-q_oNOAb1z"
      },
      "source": [
        "![teste_24.2.PNG](data:image/png;base64,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)"
      ]
    },
    {
      "cell_type": "markdown",
      "metadata": {
        "id": "jQmHi2ZAAL6U"
      },
      "source": [
        "![teste_24.PNG](data:image/png;base64,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)"
      ]
    },
    {
      "cell_type": "markdown",
      "metadata": {
        "id": "qIF_fAItbKKn"
      },
      "source": [
        "### **TESTE 2**"
      ]
    },
    {
      "cell_type": "markdown",
      "metadata": {
        "id": "W849gbThbysL"
      },
      "source": [
        "![teste_24.2.PNG](data:image/png;base64,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)"
      ]
    },
    {
      "cell_type": "markdown",
      "metadata": {
        "id": "vVxhV3VCbrY0"
      },
      "source": [
        "![teste_24.PNG](data:image/png;base64,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)"
      ]
    },
    {
      "cell_type": "markdown",
      "metadata": {
        "id": "ua8DjpkVdfvX"
      },
      "source": [
        "## Tarefa nº 8: Salvar o modelo treinado"
      ]
    },
    {
      "cell_type": "markdown",
      "metadata": {
        "id": "W0OUDAvTodQT"
      },
      "source": [
        "referencia:\r\n",
        "\r\n",
        "- [Exportar um estimador scikit-learn](https://cloud.google.com/ai-platform/prediction/docs/exporting-for-prediction#pickle_1)\r\n",
        "\r\n",
        "- [Salvando modelos de machine learning com Pickle](https://sigmoidal.ai/como-salvar-seu-modelo-de-machine-learning/)"
      ]
    },
    {
      "cell_type": "code",
      "metadata": {
        "id": "PgCePOOigQFS"
      },
      "source": [
        "import pickle\r\n",
        " \r\n",
        "# salvar o modelo Naive Bayes (NB_classifier) no arquivo model_1.pkl\r\n",
        "with open('/tmp/model_2.pkl', 'wb') as file:\r\n",
        "    pickle.dump(NB_classifier, file)"
      ],
      "execution_count": null,
      "outputs": []
    },
    {
      "cell_type": "code",
      "metadata": {
        "id": "2jGNIn0_l2P1"
      },
      "source": [
        "# Carregar modelo\r\n",
        "with open('/tmp/model_1.pkl', 'rb') as f:\r\n",
        "    model = pickle.load(f)"
      ],
      "execution_count": null,
      "outputs": []
    },
    {
      "cell_type": "code",
      "metadata": {
        "colab": {
          "base_uri": "https://localhost:8080/"
        },
        "id": "gyhjpS4CmAgo",
        "outputId": "d8bb39c3-4cb3-40ee-edba-073acf907f26"
      },
      "source": [
        "# classificar o sentimento\r\n",
        "model.predict(exemplos2)"
      ],
      "execution_count": null,
      "outputs": [
        {
          "output_type": "execute_result",
          "data": {
            "text/plain": [
              "array([1])"
            ]
          },
          "metadata": {
            "tags": []
          },
          "execution_count": 214
        }
      ]
    }
  ]
}